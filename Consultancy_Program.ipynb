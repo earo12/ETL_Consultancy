{
  "nbformat": 4,
  "nbformat_minor": 0,
  "metadata": {
    "colab": {
      "provenance": [],
      "authorship_tag": "ABX9TyP5vNqzjIPijwwIVjerqKmr",
      "include_colab_link": true
    },
    "kernelspec": {
      "name": "python3",
      "display_name": "Python 3"
    },
    "language_info": {
      "name": "python"
    }
  },
  "cells": [
    {
      "cell_type": "markdown",
      "metadata": {
        "id": "view-in-github",
        "colab_type": "text"
      },
      "source": [
        "<a href=\"https://colab.research.google.com/github/earo12/ETL_Consultancy/blob/dev-branch/Consultancy_Program.ipynb\" target=\"_parent\"><img src=\"https://colab.research.google.com/assets/colab-badge.svg\" alt=\"Open In Colab\"/></a>"
      ]
    },
    {
      "cell_type": "code",
      "execution_count": 1,
      "metadata": {
        "id": "-e5cYE05BWIf"
      },
      "outputs": [],
      "source": [
        "import pandas as pd\n",
        "import random\n",
        "from datetime import datetime, timedelta"
      ]
    },
    {
      "cell_type": "code",
      "source": [
        "# Función para fechas aleatorias\n",
        "def random_date(fecha_inicio, fecha_fin):\n",
        "  delta = fecha_fin - fecha_inicio\n",
        "  random_days = random.randint(0, delta.days)\n",
        "  return fecha_inicio + timedelta(days = random_days)"
      ],
      "metadata": {
        "id": "lFulR7D9DJa4"
      },
      "execution_count": 3,
      "outputs": []
    },
    {
      "cell_type": "code",
      "source": [
        "# Sample para los campos del Excel\n",
        "nombres = ['Juan', 'María', 'Pedro', 'Laura', 'Carlos', 'Ana', 'Luis', 'Sofía', 'Diego', 'Rodrigo', 'Ángel', 'David']\n",
        "apellidos = ['Pérez', 'García', 'Rodríguez', 'López', 'Martínez', 'Hernández', 'Gónzalez', 'Díaz', 'Ramírez', 'Torres']\n",
        "roles = ['Analista', 'Desarrollador', 'Project Manager', 'Tester', 'Data Engineer', 'QA', 'BI']\n",
        "proyectos = ['Proyecto A', 'Proyecto B', 'Proyecto C', 'Proyecto D', 'Proyecto E']\n",
        "responsables = ['Juan Pérez', 'María García', 'Laura López']\n",
        "habilidades_tecnicas = ['Python', 'SQL', 'Gestión de Proyectos', 'Power BI', 'Machine Learning', 'AWS', 'Azure', 'Análisis de Datos']\n",
        "idiomas = ['Español', 'Inglés', 'Francés', 'Portugués', 'Italiano']\n",
        "ubicacion_actual = ['CDMX', 'Monterrey', 'Guadalajara', 'Puebla', 'Tijuana']"
      ],
      "metadata": {
        "id": "S4Tv1NIKDtU4"
      },
      "execution_count": 4,
      "outputs": []
    }
  ]
}