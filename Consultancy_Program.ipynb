{
  "nbformat": 4,
  "nbformat_minor": 0,
  "metadata": {
    "colab": {
      "provenance": [],
      "authorship_tag": "ABX9TyMK3d+iCufzjYEvVPYDWYds",
      "include_colab_link": true
    },
    "kernelspec": {
      "name": "python3",
      "display_name": "Python 3"
    },
    "language_info": {
      "name": "python"
    }
  },
  "cells": [
    {
      "cell_type": "markdown",
      "metadata": {
        "id": "view-in-github",
        "colab_type": "text"
      },
      "source": [
        "<a href=\"https://colab.research.google.com/github/earo12/ETL_Consultancy/blob/dev-branch/Consultancy_Program.ipynb\" target=\"_parent\"><img src=\"https://colab.research.google.com/assets/colab-badge.svg\" alt=\"Open In Colab\"/></a>"
      ]
    },
    {
      "cell_type": "code",
      "execution_count": 1,
      "metadata": {
        "id": "-e5cYE05BWIf"
      },
      "outputs": [],
      "source": [
        "import pandas as pd\n",
        "import random\n",
        "from datetime import datetime, timedelta"
      ]
    },
    {
      "cell_type": "code",
      "source": [
        "# Función para fechas aleatorias\n",
        "def random_date(fecha_inicio, fecha_fin):\n",
        "  delta = fecha_fin - fecha_inicio\n",
        "  random_days = random.randint(0, delta.days)\n",
        "  return fecha_inicio + timedelta(days = random_days)"
      ],
      "metadata": {
        "id": "lFulR7D9DJa4"
      },
      "execution_count": 3,
      "outputs": []
    },
    {
      "cell_type": "code",
      "source": [
        "# Sample para los campos del Excel\n",
        "nombres = ['Juan', 'María', 'Pedro', 'Laura', 'Carlos', 'Ana', 'Luis', 'Sofía', 'Diego', 'Rodrigo', 'Ángel', 'David']\n",
        "apellidos = ['Pérez', 'García', 'Rodríguez', 'López', 'Martínez', 'Hernández', 'Gónzalez', 'Díaz', 'Ramírez', 'Torres']\n",
        "roles = ['Analista', 'Desarrollador', 'Project Manager', 'Tester', 'Data Engineer', 'QA', 'BI']\n",
        "proyectos = ['Proyecto A', 'Proyecto B', 'Proyecto C', 'Proyecto D', 'Proyecto E']\n",
        "responsables = ['Juan Pérez', 'María García', 'Laura López']\n",
        "habilidades_tecnicas = ['Python', 'SQL', 'Gestión de Proyectos', 'Power BI', 'Machine Learning', 'AWS', 'Azure', 'Análisis de Datos']\n",
        "idiomas = ['Inglés', 'Francés', 'Portugués', 'Italiano']\n",
        "ubicacion_actual = ['CDMX', 'Monterrey', 'Guadalajara', 'Puebla', 'Tijuana']"
      ],
      "metadata": {
        "id": "S4Tv1NIKDtU4"
      },
      "execution_count": 12,
      "outputs": []
    },
    {
      "cell_type": "code",
      "source": [
        "# Fechas para rangos de candidatos, todo 2024:\n",
        "fecha_inicio = datetime(2024, 1, 1)\n",
        "fecha_fin = datetime(2024, 12, 31)"
      ],
      "metadata": {
        "id": "rkbOa15xFsNc"
      },
      "execution_count": 5,
      "outputs": []
    },
    {
      "cell_type": "code",
      "source": [
        "# Append para guardar 100 datos en un dataframe de pandas:\n",
        "registros = []\n",
        "for i in range(100):\n",
        "  estado_actual = random.choice(['ASIGNADO', 'POOL'])\n",
        "  fecha_estado_actual = random_date(fecha_inicio, fecha_fin)\n",
        "  proyecto = random.choice(proyectos) if estado_actual == 'ASIGNADO' else None\n",
        "  rol = random.choice(roles)\n",
        "  fecha_asignacion = fecha_estado_actual if estado_actual == 'ASIGNADO' else None\n",
        "  fecha_fin_asignacion = (fecha_asignacion + timedelta(days = random.randint(30, 365))) if fecha_asignacion else None\n",
        "  fecha_pool = fecha_estado_actual if estado_actual == 'POOL' else None\n",
        "\n",
        "  registros.append({\n",
        "      'id_consultor' : i ,\n",
        "      'apellidos' : random.choice(apellidos),\n",
        "      'nombre' : random.choice(nombres),\n",
        "      'correo_electronico' : f'candidato{i}@mail.com',\n",
        "      'telefono' : f'555-{random.randint(1000, 9999)}',\n",
        "      'estado_actual' : estado_actual,\n",
        "      'fecha_inicio_estado_actual' : fecha_estado_actual.date(),\n",
        "      'duracion_estado_actual' : (datetime.now() - fecha_estado_actual).days,\n",
        "      'nombre_proyecto' : proyecto,\n",
        "      'rol_proyecto' : rol,\n",
        "      'fecha_inicio_asignacion' : fecha_asignacion.date() if fecha_asignacion else None,\n",
        "      'fecha_fin_asignacion' : fecha_fin_asignacion.date() if fecha_asignacion else None,\n",
        "      'duracion_dias_proyecto' : (fecha_fin_asignacion - fecha_asignacion).days if fecha_asignacion else None,\n",
        "      'fecha_ingreso_pool' : fecha_pool.date() if fecha_pool else None,\n",
        "      'comentarios_disponibilidad' : 'DISPONIBLE' if estado_actual == 'POOL' else None,\n",
        "      'ultima_actualizacion_estado' : datetime.now().date(),\n",
        "      'responsable_seguimiento' : random.choice(responsables),\n",
        "      'habilidades_principales': ', '.join(random.sample(habilidades_tecnicas, k = 2)),\n",
        "      'idiomas' : ', '.join(random.sample(idiomas, k = 2)),\n",
        "      'ubicacion_actual' : random.choice(ubicacion_actual)\n",
        "      })\n",
        "\n",
        "# Creacion dataframe\n",
        "df = pd.DataFrame(registros)"
      ],
      "metadata": {
        "id": "82rycE56K2hw"
      },
      "execution_count": 15,
      "outputs": []
    },
    {
      "cell_type": "code",
      "source": [
        "# Guardado del dataframe como archivo de excel para descargarse en tu computadora.\n",
        "output_path = 'datos_consultora.xlsx'\n",
        "df.to_excel(output_path, index = False)\n",
        "print(f'Archivo generado: {output_path}')"
      ],
      "metadata": {
        "colab": {
          "base_uri": "https://localhost:8080/"
        },
        "id": "jAEEAEB3NjYb",
        "outputId": "15bbe6b3-f0d4-4adb-ccdd-7e0d6f9547f2"
      },
      "execution_count": 18,
      "outputs": [
        {
          "output_type": "stream",
          "name": "stdout",
          "text": [
            "Archivo generado: datos_consultora.xlsx\n"
          ]
        }
      ]
    }
  ]
}